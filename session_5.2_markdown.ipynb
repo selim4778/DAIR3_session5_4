{
 "cells": [
  {
   "cell_type": "markdown",
   "id": "be66db8d-66d6-48a2-861f-647a9a9f5eb7",
   "metadata": {},
   "source": [
    "import os\n",
    "import pandas as pd"
   ]
  },
  {
   "cell_type": "code",
   "execution_count": 60,
   "id": "6bc1a401-2fc8-4897-9f0d-f923a523228e",
   "metadata": {},
   "outputs": [],
   "source": [
    "from ucimlrepo import fetch_ucirepo \n",
    "  \n",
    "# fetch dataset \n",
    "heart_disease = fetch_ucirepo(id=45) \n",
    "  \n",
    "# data (as pandas dataframes) \n",
    "X = heart_disease.data.features \n",
    "y = heart_disease.data.targets \n",
    "  \n",
    "\n"
   ]
  },
  {
   "cell_type": "markdown",
   "id": "4dd69e57-f9f0-4dee-a620-828dd3ee334f",
   "metadata": {},
   "source": [
    "# Import libraries\n",
    "import pandas as pd\n",
    "import matplotlib.pyplot as plt\n",
    "import seaborn as sns\n",
    "from ucimlrepo import fetch_ucirepo\n",
    "\n",
    "# Fetch dataset\n",
    "heart_disease = fetch_ucirepo(id=45)\n",
    "\n",
    "# Load features and targets\n",
    "X = heart_disease.data.features\n",
    "y = heart_disease.data.targets\n",
    "df = pd.concat([X, y], axis=1)\n",
    "\n",
    "# Display first 5 rows\n",
    "df.head()\n",
    "\n"
   ]
  },
  {
   "cell_type": "markdown",
   "id": "bfbfa709-a474-4497-83f2-c083c54eddff",
   "metadata": {},
   "source": [
    "# data discription\n",
    "df.describe()\n",
    "\n",
    "# Generate a plot: Correlation heatmap\n",
    "\n",
    "plt.figure(figsize=(12, 8))\n",
    "sns.heatmap(df.corr(numeric_only=True), annot=True, cmap='coolwarm')\n",
    "plt.title(\"Correlation Heatmap\")\n",
    "plt.show()\n",
    "\n",
    "# Another optional plot: Heart disease presence by sex\n",
    "\n",
    "sns.countplot(data=df, x='sex', hue='num')\n",
    "plt.title(\"Heart Disease Count by Sex\")\n",
    "plt.xlabel(\"Sex (0 = female, 1 = male)\")\n",
    "plt.ylabel(\"Count\")\n",
    "plt.legend(title=\"Heart Disease (num)\")\n",
    "plt.show()\n"
   ]
  },
  {
   "cell_type": "markdown",
   "id": "0c540f49-f54e-47e7-b685-87b2f618e97d",
   "metadata": {},
   "source": []
  },
  {
   "cell_type": "code",
   "execution_count": null,
   "id": "256796a0-c7ec-4262-b5b8-73ff8458d92b",
   "metadata": {},
   "outputs": [],
   "source": [
    "\n"
   ]
  },
  {
   "cell_type": "code",
   "execution_count": null,
   "id": "8b535904-90fb-4e81-8aed-5a78af7e728a",
   "metadata": {},
   "outputs": [],
   "source": []
  },
  {
   "cell_type": "code",
   "execution_count": null,
   "id": "02d86047-32da-4db5-9c3f-af7e42c32dad",
   "metadata": {},
   "outputs": [],
   "source": []
  }
 ],
 "metadata": {
  "kernelspec": {
   "display_name": "Python [conda env:base] *",
   "language": "python",
   "name": "conda-base-py"
  },
  "language_info": {
   "codemirror_mode": {
    "name": "ipython",
    "version": 3
   },
   "file_extension": ".py",
   "mimetype": "text/x-python",
   "name": "python",
   "nbconvert_exporter": "python",
   "pygments_lexer": "ipython3",
   "version": "3.12.3"
  }
 },
 "nbformat": 4,
 "nbformat_minor": 5
}
